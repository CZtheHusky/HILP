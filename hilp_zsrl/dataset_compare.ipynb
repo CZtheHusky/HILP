{
 "cells": [
  {
   "cell_type": "code",
   "execution_count": 1,
   "id": "aa7b9f89",
   "metadata": {},
   "outputs": [
    {
     "name": "stderr",
     "output_type": "stream",
     "text": [
      "/root/miniconda3/envs/hilp_zsrl/lib/python3.8/site-packages/glfw/__init__.py:917: GLFWError: (65550) b'X11: The DISPLAY environment variable is missing'\n",
      "  warnings.warn(message, GLFWError)\n"
     ]
    }
   ],
   "source": [
    "from url_benchmark.replay_loader_builder import build_replay_loader\n",
    "\n",
    "\n"
   ]
  },
  {
   "cell_type": "code",
   "execution_count": 2,
   "id": "b954a689",
   "metadata": {},
   "outputs": [
    {
     "name": "stdout",
     "output_type": "stream",
     "text": [
      "loading Replay from %s /root/workspace/exorl/datasets/walker/rnd/replay.pt\n",
      "loading checkpoint from /root/workspace/exorl/datasets/walker/rnd/replay.pt\n"
     ]
    },
    {
     "name": "stderr",
     "output_type": "stream",
     "text": [
      "/cpfs/user/caozhe/workspace/HILP/hilp_zsrl/url_benchmark/replay_loader_builder.py:20: FutureWarning: You are using `torch.load` with `weights_only=False` (the current default value), which uses the default pickle module implicitly. It is possible to construct malicious pickle data which will execute arbitrary code during unpickling (See https://github.com/pytorch/pytorch/blob/main/SECURITY.md#untrusted-models for more details). In a future release, the default value for `weights_only` will be flipped to `True`. This limits the functions that could be executed during unpickling. Arbitrary objects will no longer be allowed to be loaded via this mode unless they are explicitly allowlisted by the user via `torch.serialization.add_safe_globals`. We recommend you start setting `weights_only=True` for any use case where you don't have full control of the loaded file. Please open an issue on GitHub for any issues related to this experimental feature.\n",
      "  payload = torch.load(f)\n"
     ]
    }
   ],
   "source": [
    "rb = build_replay_loader(\n",
    "    load_replay_buffer=\"/root/workspace/exorl/datasets/walker/rnd/replay.pt\",\n",
    "    replay_buffer_episodes=5000,\n",
    "    obs_type=\"state\",\n",
    "    frame_stack=None,\n",
    "    discount=0.98,\n",
    "    future=0.98,\n",
    "    p_currgoal=0.5,\n",
    "    p_randomgoal=0.5,\n",
    ")"
   ]
  },
  {
   "cell_type": "code",
   "execution_count": 3,
   "id": "6426cdf2",
   "metadata": {},
   "outputs": [
    {
     "data": {
      "text/plain": [
       "True"
      ]
     },
     "execution_count": 3,
     "metadata": {},
     "output_type": "execute_result"
    }
   ],
   "source": [
    "rb._is_fixed_episode_length"
   ]
  },
  {
   "cell_type": "code",
   "execution_count": 6,
   "id": "31d097df",
   "metadata": {},
   "outputs": [
    {
     "data": {
      "text/plain": [
       "1000"
      ]
     },
     "execution_count": 6,
     "metadata": {},
     "output_type": "execute_result"
    }
   ],
   "source": [
    "rb._episodes_length[2]"
   ]
  }
 ],
 "metadata": {
  "kernelspec": {
   "display_name": "hilp_zsrl",
   "language": "python",
   "name": "python3"
  },
  "language_info": {
   "codemirror_mode": {
    "name": "ipython",
    "version": 3
   },
   "file_extension": ".py",
   "mimetype": "text/x-python",
   "name": "python",
   "nbconvert_exporter": "python",
   "pygments_lexer": "ipython3",
   "version": "3.8.20"
  }
 },
 "nbformat": 4,
 "nbformat_minor": 5
}
