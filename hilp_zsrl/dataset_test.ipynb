{
 "cells": [
  {
   "cell_type": "code",
   "execution_count": 1,
   "id": "4c81b3b2",
   "metadata": {},
   "outputs": [
    {
     "name": "stderr",
     "output_type": "stream",
     "text": [
      "/root/miniconda3/envs/hilp_zsrl/lib/python3.8/site-packages/glfw/__init__.py:917: GLFWError: (65550) b'X11: The DISPLAY environment variable is missing'\n",
      "  warnings.warn(message, GLFWError)\n"
     ]
    },
    {
     "name": "stdout",
     "output_type": "stream",
     "text": [
      "Sampling method, p_randomgoal: 0.375, future: 0.98, discount: 0.96 horizon: 5 use_history_action: False\n"
     ]
    },
    {
     "name": "stderr",
     "output_type": "stream",
     "text": [
      "  0%|          | 0/1 [00:00<?, ?it/s]"
     ]
    },
    {
     "name": "stdout",
     "output_type": "stream",
     "text": [
      "/\n",
      " ├── data\n",
      " │   ├── actions (11522042, 19) float32\n",
      " │   ├── clock (11522042, 2) float32\n",
      " │   ├── commands (11522042, 11) float32\n",
      " │   ├── dones (11522042,) bool\n",
      " │   ├── privileged (11522042, 24) float32\n",
      " │   ├── proprio (11522042, 44) float32\n",
      " │   ├── rewards (11522042,) float32\n",
      " │   └── terrain (11522042, 221) float32\n",
      " └── meta\n",
      "     ├── ep_start_obs (200000, 4, 76) float32\n",
      "     ├── episode_command_A (200000, 11) float32\n",
      "     ├── episode_command_B (200000, 11) float32\n",
      "     ├── episode_ends (200000,) int64\n",
      "     ├── episode_reward (200000,) float32\n",
      "     └── episode_step_reward (200000,) float32\n"
     ]
    },
    {
     "name": "stderr",
     "output_type": "stream",
     "text": [
      "100%|██████████| 1/1 [00:03<00:00,  3.04s/it]\n"
     ]
    }
   ],
   "source": [
    "from url_benchmark.hilbert_dataset import HilbertRepresentationDataset\n",
    "\n",
    "dataset = HilbertRepresentationDataset(data_dir=\"/root/workspace/HugWBC/dataset/Mixture/model_0\",\n",
    "                                       use_history_action=False,\n",
    "                                       discount=0.96,\n",
    "                                       obs_horizon=5,\n",
    "                                       full_loading=False,\n",
    "                                       goal_future=0.98,\n",
    "                                       p_randomgoal=0.375)\n",
    "\n",
    "# print(dataset[0])"
   ]
  },
  {
   "cell_type": "code",
   "execution_count": 3,
   "id": "1ad67af8",
   "metadata": {},
   "outputs": [
    {
     "name": "stdout",
     "output_type": "stream",
     "text": [
      "obs torch.Size([220])\n",
      "next_obs torch.Size([220])\n",
      "future_obs torch.Size([220])\n",
      "discount torch.Size([])\n"
     ]
    }
   ],
   "source": [
    "for k, v in dataset[0].items():\n",
    "    print(k, v.shape)"
   ]
  }
 ],
 "metadata": {
  "kernelspec": {
   "display_name": "hilp_zsrl",
   "language": "python",
   "name": "python3"
  },
  "language_info": {
   "codemirror_mode": {
    "name": "ipython",
    "version": 3
   },
   "file_extension": ".py",
   "mimetype": "text/x-python",
   "name": "python",
   "nbconvert_exporter": "python",
   "pygments_lexer": "ipython3",
   "version": "3.8.20"
  }
 },
 "nbformat": 4,
 "nbformat_minor": 5
}
